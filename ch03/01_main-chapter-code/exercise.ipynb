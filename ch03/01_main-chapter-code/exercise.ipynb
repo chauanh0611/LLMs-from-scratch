{
 "cells": [
  {
   "cell_type": "markdown",
   "id": "d91e6a14790c2b50",
   "metadata": {},
   "source": [
    "Exercise 3.1"
   ]
  },
  {
   "cell_type": "code",
   "execution_count": 27,
   "id": "acca3ea24120061d",
   "metadata": {
    "ExecuteTime": {
     "end_time": "2025-04-03T18:49:13.243134Z",
     "start_time": "2025-04-03T18:49:13.226170Z"
    }
   },
   "outputs": [],
   "source": [
    "from importlib.metadata import version\n",
    "import torch"
   ]
  },
  {
   "cell_type": "code",
   "execution_count": 28,
   "id": "c736bebc0643c2e5",
   "metadata": {
    "ExecuteTime": {
     "end_time": "2025-04-03T18:49:13.262010Z",
     "start_time": "2025-04-03T18:49:13.254931Z"
    }
   },
   "outputs": [],
   "source": [
    "inputs = torch.tensor(\n",
    "  [[0.43, 0.15, 0.89],\n",
    "   [0.55, 0.87, 0.66],\n",
    "   [0.57, 0.85, 0.64],\n",
    "   [0.22, 0.58, 0.33],\n",
    "   [0.77, 0.25, 0.10],\n",
    "   [0.05, 0.80, 0.55]]\n",
    ")\n",
    "\n",
    "d_in, d_out = 3, 2"
   ]
  },
  {
   "cell_type": "code",
   "execution_count": 29,
   "id": "94916a3a3d5dca54",
   "metadata": {
    "ExecuteTime": {
     "end_time": "2025-04-03T18:49:13.304590Z",
     "start_time": "2025-04-03T18:49:13.289229Z"
    }
   },
   "outputs": [],
   "source": [
    "import torch.nn as nn\n",
    "class SelfAttention_v1(nn.Module):\n",
    "    def __init__(self, d_in, d_out):\n",
    "        super().__init__()\n",
    "        self.d_out = d_out\n",
    "        self.W_query = nn.Parameter(torch.randn(d_in, d_out))\n",
    "        self.W_key = nn.Parameter(torch.randn(d_in, d_out))\n",
    "        self.W_value = nn.Parameter(torch.randn(d_in, d_out))\n",
    "\n",
    "    def forward(self, x):\n",
    "        keys = x @ self.W_key\n",
    "        queries = x @ self.W_query\n",
    "        values = x @ self.W_value\n",
    "        attn_scores = queries @ keys.t()\n",
    "        attn_weights = torch.softmax(attn_scores/keys.shape[-1]**0.5, dim=-1)\n",
    "        context_vec = attn_weights @ values\n",
    "        return context_vec\n",
    "\n",
    "torch.manual_seed(123)\n",
    "sa_v1 = SelfAttention_v1(d_in, d_out)"
   ]
  },
  {
   "cell_type": "code",
   "execution_count": 30,
   "id": "c5f503604ff1f96f",
   "metadata": {
    "ExecuteTime": {
     "end_time": "2025-04-03T18:49:13.375216Z",
     "start_time": "2025-04-03T18:49:13.363716Z"
    }
   },
   "outputs": [],
   "source": [
    "class SelfAttention_v2(nn.Module):\n",
    "\n",
    "    def __init__(self, d_in, d_out):\n",
    "        super().__init__()\n",
    "        self.d_out = d_out\n",
    "        self.W_query = nn.Linear(d_in, d_out, bias=False)\n",
    "        self.W_key   = nn.Linear(d_in, d_out, bias=False)\n",
    "        self.W_value = nn.Linear(d_in, d_out, bias=False)\n",
    "\n",
    "    def forward(self, x):\n",
    "        keys = self.W_key(x)\n",
    "        queries = self.W_query(x)\n",
    "        values = self.W_value(x)\n",
    "\n",
    "        attn_scores = queries @ keys.T\n",
    "        attn_weights = torch.softmax(attn_scores / keys.shape[-1]**0.5, dim=1)\n",
    "\n",
    "        context_vec = attn_weights @ values\n",
    "        return context_vec\n",
    "\n",
    "torch.manual_seed(123)\n",
    "sa_v2 = SelfAttention_v2(d_in, d_out)"
   ]
  },
  {
   "cell_type": "code",
   "execution_count": 31,
   "id": "d0175279f629c4e4",
   "metadata": {
    "ExecuteTime": {
     "end_time": "2025-04-03T18:49:13.404814Z",
     "start_time": "2025-04-03T18:49:13.399018Z"
    }
   },
   "outputs": [],
   "source": [
    "sa_v1.W_query = torch.nn.Parameter(sa_v2.W_query.weight.T)\n",
    "sa_v1.W_key = torch.nn.Parameter(sa_v2.W_key.weight.T)\n",
    "sa_v1.W_value = torch.nn.Parameter(sa_v2.W_value.weight.T)"
   ]
  },
  {
   "cell_type": "code",
   "execution_count": 37,
   "id": "c47df1717cd265f2",
   "metadata": {
    "ExecuteTime": {
     "end_time": "2025-04-03T19:56:43.753078Z",
     "start_time": "2025-04-03T19:56:43.720511Z"
    }
   },
   "outputs": [
    {
     "data": {
      "text/plain": [
       "tensor([[-0.5337, -0.1051],\n",
       "        [-0.5323, -0.1080],\n",
       "        [-0.5323, -0.1079],\n",
       "        [-0.5297, -0.1076],\n",
       "        [-0.5311, -0.1066],\n",
       "        [-0.5299, -0.1081]], grad_fn=<MmBackward0>)"
      ]
     },
     "execution_count": 37,
     "metadata": {},
     "output_type": "execute_result"
    }
   ],
   "source": [
    "sa_v1(inputs)\n",
    "sa_v2(inputs)"
   ]
  },
  {
   "cell_type": "markdown",
   "id": "f433650f87ec226d",
   "metadata": {},
   "source": [
    "Exercise 3.2"
   ]
  },
  {
   "cell_type": "code",
   "execution_count": 33,
   "id": "f21338fba660295",
   "metadata": {
    "ExecuteTime": {
     "end_time": "2025-04-03T19:49:15.643932Z",
     "start_time": "2025-04-03T19:49:15.517745Z"
    }
   },
   "outputs": [],
   "source": [
    "class CausalAttention(nn.Module):\n",
    "    def __init__(self, d_in, d_out, context_length, dropout, qkv_bias=False):\n",
    "        super().__init__()\n",
    "        self.d_out = d_out\n",
    "        self.W_query = nn.Linear(d_in, d_out, bias=qkv_bias)\n",
    "        self.W_key = nn.Linear(d_in, d_out, bias=qkv_bias)\n",
    "        self.W_value = nn.Linear(d_in, d_out, bias=qkv_bias)\n",
    "        self.dropout = nn.Dropout(dropout)\n",
    "        self.register_buffer(\n",
    "            'mask',\n",
    "            torch.triu(torch.ones(context_length, context_length),\n",
    "            diagonal=1)\n",
    "        )\n",
    "    def forward(self, x):\n",
    "        b, num_tokens, d_in = x.shape #3\n",
    "        keys = self.W_key(x)\n",
    "        queries = self.W_query(x)\n",
    "        values = self.W_value(x)\n",
    "        attn_scores = queries @ keys.transpose(1, 2)\n",
    "        attn_scores.masked_fill_( #4\n",
    "        self.mask.bool()[:num_tokens, :num_tokens], -torch.inf)\n",
    "        attn_weights = torch.softmax(\n",
    "        attn_scores / keys.shape[-1]**0.5, dim=-1\n",
    "        )\n",
    "        attn_weights = self.dropout(attn_weights)\n",
    "        context_vec = attn_weights @ values\n",
    "        return context_vec"
   ]
  },
  {
   "cell_type": "code",
   "execution_count": 34,
   "id": "a75c1a453b60e94a",
   "metadata": {
    "ExecuteTime": {
     "end_time": "2025-04-03T19:49:18.426220Z",
     "start_time": "2025-04-03T19:49:18.410537Z"
    }
   },
   "outputs": [],
   "source": [
    "class MultiHeadAttentionWrapper(nn.Module):\n",
    "    def __init__(self, d_in, d_out, context_length, dropout, num_heads, qkv_bias=False):\n",
    "        super().__init__()\n",
    "        self.heads = nn.ModuleList(\n",
    "            [CausalAttention(\n",
    "                d_in, d_out, context_length, dropout, qkv_bias\n",
    "            )\n",
    "            for _ in range(num_heads)]\n",
    "        )\n",
    "    def forward(self, x):\n",
    "        return torch.cat([head(x) for head in self.heads], dim=-1)"
   ]
  },
  {
   "cell_type": "code",
   "execution_count": 36,
   "id": "a2b3da0b9db22e75",
   "metadata": {
    "ExecuteTime": {
     "end_time": "2025-04-03T19:56:15.589678Z",
     "start_time": "2025-04-03T19:56:15.358858Z"
    }
   },
   "outputs": [
    {
     "name": "stdout",
     "output_type": "stream",
     "text": [
      "tensor([[[-0.5740,  0.2216],\n",
      "         [-0.7320,  0.0155],\n",
      "         [-0.7774, -0.0546],\n",
      "         [-0.6979, -0.0817],\n",
      "         [-0.6538, -0.0957],\n",
      "         [-0.6424, -0.1065]],\n",
      "\n",
      "        [[-0.5740,  0.2216],\n",
      "         [-0.7320,  0.0155],\n",
      "         [-0.7774, -0.0546],\n",
      "         [-0.6979, -0.0817],\n",
      "         [-0.6538, -0.0957],\n",
      "         [-0.6424, -0.1065]]], grad_fn=<CatBackward0>)\n",
      "torch.Size([2, 6, 2])\n"
     ]
    }
   ],
   "source": [
    "batch = torch.stack((inputs, inputs), dim=0)\n",
    "torch.manual_seed(123)\n",
    "d_out = 1\n",
    "context_length = batch.shape[1]\n",
    "mha = MultiHeadAttentionWrapper(d_in, d_out, context_length, 0.0, num_heads=2)\n",
    "context_vec = mha(batch)\n",
    "print(context_vec)\n",
    "print(context_vec.shape)"
   ]
  },
  {
   "cell_type": "markdown",
   "id": "3c4d01f2e7f2fa78",
   "metadata": {},
   "source": [
    "Exercise 3.3\n"
   ]
  },
  {
   "cell_type": "code",
   "id": "1bc49599ae3cba4e",
   "metadata": {
    "ExecuteTime": {
     "end_time": "2025-04-03T20:12:54.647522Z",
     "start_time": "2025-04-03T20:12:54.166144Z"
    }
   },
   "source": [
    "torch.manual_seed(123)\n",
    "d_in, d_out = 768,768\n",
    "context_length = 1024\n",
    "num_heads = 12\n",
    "mha = MultiHeadAttentionWrapper(d_in, d_out, context_length, 0.0, num_heads)\n",
    "\n",
    "batch_size = 2\n",
    "num_tokens = 6\n",
    "new_batch = torch.randn(batch_size, num_tokens, d_in)\n",
    "context_vec = mha(new_batch)\n",
    "print(context_vec)\n",
    "print(context_vec.shape)"
   ],
   "outputs": [
    {
     "name": "stdout",
     "output_type": "stream",
     "text": [
      "tensor([[[ 0.0658,  0.4906,  0.3642,  ...,  0.1755, -0.1827,  0.0292],\n",
      "         [-0.0190, -0.5791, -0.1285,  ..., -0.5557, -0.4462, -0.0123],\n",
      "         [-0.1720, -0.2992, -0.0185,  ..., -0.2741, -0.3955, -0.2417],\n",
      "         [ 0.1284,  0.0102,  0.2645,  ..., -0.0180, -0.2341, -0.2064],\n",
      "         [ 0.1278,  0.1428,  0.1062,  ...,  0.0486, -0.1233, -0.1398],\n",
      "         [ 0.0964,  0.1203,  0.1756,  ..., -0.0337, -0.3025, -0.2235]],\n",
      "\n",
      "        [[-0.7179,  0.3238, -0.3076,  ...,  0.9910,  0.1504, -0.2514],\n",
      "         [ 0.3219,  0.3941,  0.2757,  ...,  0.5721,  0.4248, -0.3072],\n",
      "         [-0.1234,  0.0817,  0.3731,  ...,  0.2150,  0.3889, -0.5661],\n",
      "         [-0.0953,  0.1454,  0.0174,  ..., -0.0400,  0.2972, -0.3992],\n",
      "         [-0.1681,  0.0595, -0.0884,  ..., -0.0955,  0.0814, -0.3630],\n",
      "         [-0.0532,  0.1850,  0.1957,  ..., -0.1563,  0.0554, -0.1444]]],\n",
      "       grad_fn=<CatBackward0>)\n",
      "torch.Size([2, 6, 9216])\n"
     ]
    }
   ],
   "execution_count": 40
  },
  {
   "metadata": {
    "ExecuteTime": {
     "end_time": "2025-04-03T20:14:16.572153Z",
     "start_time": "2025-04-03T20:14:16.540552Z"
    }
   },
   "cell_type": "code",
   "source": [
    "def count_parameters(model):\n",
    "    return sum(p.numel() for p in model.parameters() if p.requires_grad)\n",
    "print(count_parameters(mha))"
   ],
   "id": "c986600e3707c5b3",
   "outputs": [
    {
     "name": "stdout",
     "output_type": "stream",
     "text": [
      "21233664\n"
     ]
    }
   ],
   "execution_count": 41
  }
 ],
 "metadata": {
  "kernelspec": {
   "display_name": "Python 3",
   "language": "python",
   "name": "python3"
  },
  "language_info": {
   "codemirror_mode": {
    "name": "ipython",
    "version": 2
   },
   "file_extension": ".py",
   "mimetype": "text/x-python",
   "name": "python",
   "nbconvert_exporter": "python",
   "pygments_lexer": "ipython2",
   "version": "2.7.6"
  }
 },
 "nbformat": 4,
 "nbformat_minor": 5
}
